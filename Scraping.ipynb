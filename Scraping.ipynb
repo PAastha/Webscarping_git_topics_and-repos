{
 "cells": [
  {
   "cell_type": "markdown",
   "id": "ebfc914b",
   "metadata": {},
   "source": [
    "__Top repositories for Github__\n"
   ]
  },
  {
   "cell_type": "code",
   "execution_count": null,
   "id": "c09b8e32",
   "metadata": {},
   "outputs": [],
   "source": []
  },
  {
   "cell_type": "markdown",
   "id": "8e77a6dc",
   "metadata": {},
   "source": [
    "__Pick a website and describe your objective__\n",
    "\n",
    "* Browse through different sites and pick on to scrape. Check the \"Project Ideas\" section for inspiration.\n",
    "* Identify the information you'd like to scrape from the site. Decide the format of the output CSV file.\n",
    "* Summarize your project idea and outline your strategy in a Juptyer notebook. Use the \"New\" button above."
   ]
  },
  {
   "cell_type": "markdown",
   "id": "d41e0cd0",
   "metadata": {},
   "source": [
    "__Project Outline:__\n",
    "- We're going to scrape https://github.com/topics\n",
    "- We'll get a list of topics. For each topic, we'll get topic title, topic page URL and topic description\n",
    "- For each topic, we'll get the top 25 repositories in the topic from the topic page\n",
    "- For each repository, we'll grab the repo name, username, stars and repo URL\n",
    "- For each topic we'll create a CSV file in the following format:\n",
    "Repo Name,Username,Stars,Repo URL\n",
    "three.js,mrdoob,69700,https://github.com/mrdoob/three.js\n",
    "libgdx,libgdx,18300,https://github.com/libgdx/libgdx"
   ]
  },
  {
   "cell_type": "code",
   "execution_count": 1,
   "id": "c905360b",
   "metadata": {},
   "outputs": [
    {
     "name": "stdout",
     "output_type": "stream",
     "text": [
      "Requirement already satisfied: requests in c:\\users\\user\\anaconda3\\lib\\site-packages (2.25.1)\n",
      "Requirement already satisfied: urllib3<1.27,>=1.21.1 in c:\\users\\user\\anaconda3\\lib\\site-packages (from requests) (1.26.4)\n",
      "Requirement already satisfied: chardet<5,>=3.0.2 in c:\\users\\user\\anaconda3\\lib\\site-packages (from requests) (4.0.0)\n",
      "Requirement already satisfied: idna<3,>=2.5 in c:\\users\\user\\anaconda3\\lib\\site-packages (from requests) (2.10)\n",
      "Requirement already satisfied: certifi>=2017.4.17 in c:\\users\\user\\anaconda3\\lib\\site-packages (from requests) (2020.12.5)\n"
     ]
    }
   ],
   "source": [
    "!pip install requests "
   ]
  },
  {
   "cell_type": "code",
   "execution_count": 2,
   "id": "869bcde4",
   "metadata": {},
   "outputs": [
    {
     "name": "stdout",
     "output_type": "stream",
     "text": [
      "Requirement already satisfied: requests in c:\\users\\user\\anaconda3\\lib\\site-packages (2.25.1)\n",
      "Collecting requests\n",
      "  Downloading requests-2.26.0-py2.py3-none-any.whl (62 kB)\n",
      "Requirement already satisfied: urllib3<1.27,>=1.21.1 in c:\\users\\user\\anaconda3\\lib\\site-packages (from requests) (1.26.4)\n",
      "Requirement already satisfied: idna<4,>=2.5 in c:\\users\\user\\anaconda3\\lib\\site-packages (from requests) (2.10)\n",
      "Requirement already satisfied: certifi>=2017.4.17 in c:\\users\\user\\anaconda3\\lib\\site-packages (from requests) (2020.12.5)\n",
      "Collecting charset-normalizer~=2.0.0\n",
      "  Downloading charset_normalizer-2.0.7-py3-none-any.whl (38 kB)\n",
      "Installing collected packages: charset-normalizer, requests\n",
      "  Attempting uninstall: requests\n",
      "    Found existing installation: requests 2.25.1\n",
      "    Uninstalling requests-2.25.1:\n",
      "      Successfully uninstalled requests-2.25.1\n",
      "Successfully installed charset-normalizer-2.0.7 requests-2.26.0\n"
     ]
    },
    {
     "name": "stderr",
     "output_type": "stream",
     "text": [
      "ERROR: pip's dependency resolver does not currently take into account all the packages that are installed. This behaviour is the source of the following dependency conflicts.\n",
      "conda-repo-cli 1.0.4 requires pathlib, which is not installed.\n",
      "anaconda-project 0.9.1 requires ruamel-yaml, which is not installed.\n"
     ]
    }
   ],
   "source": [
    "!pip install requests --upgrade"
   ]
  },
  {
   "cell_type": "code",
   "execution_count": 3,
   "id": "763d884b",
   "metadata": {},
   "outputs": [],
   "source": [
    "import requests"
   ]
  },
  {
   "cell_type": "code",
   "execution_count": 8,
   "id": "aa42351b",
   "metadata": {},
   "outputs": [],
   "source": [
    "topic_url ='https://github.com/topics'"
   ]
  },
  {
   "cell_type": "code",
   "execution_count": 9,
   "id": "231afaa0",
   "metadata": {},
   "outputs": [],
   "source": [
    "response= requests.get(topic_url)"
   ]
  },
  {
   "cell_type": "code",
   "execution_count": 11,
   "id": "a751baa6",
   "metadata": {},
   "outputs": [
    {
     "data": {
      "text/plain": [
       "200"
      ]
     },
     "execution_count": 11,
     "metadata": {},
     "output_type": "execute_result"
    }
   ],
   "source": [
    "response.status_code"
   ]
  },
  {
   "cell_type": "code",
   "execution_count": 12,
   "id": "ab426ff7",
   "metadata": {},
   "outputs": [],
   "source": [
    "page_contents=response.text"
   ]
  },
  {
   "cell_type": "markdown",
   "id": "657e2774",
   "metadata": {},
   "source": [
    "__Use Beautiful Soup to parse and extract information__"
   ]
  },
  {
   "cell_type": "code",
   "execution_count": 13,
   "id": "0e2cc362",
   "metadata": {},
   "outputs": [
    {
     "name": "stdout",
     "output_type": "stream",
     "text": [
      "Requirement already satisfied: beautifulsoup4 in c:\\users\\user\\anaconda3\\lib\\site-packages (4.9.3)\n",
      "Requirement already satisfied: soupsieve>1.2 in c:\\users\\user\\anaconda3\\lib\\site-packages (from beautifulsoup4) (2.2.1)\n"
     ]
    }
   ],
   "source": [
    "!pip install beautifulsoup4"
   ]
  },
  {
   "cell_type": "code",
   "execution_count": 14,
   "id": "dc8bb84b",
   "metadata": {},
   "outputs": [],
   "source": [
    "from bs4 import BeautifulSoup"
   ]
  },
  {
   "cell_type": "code",
   "execution_count": 16,
   "id": "f5667f12",
   "metadata": {},
   "outputs": [],
   "source": [
    "doc = BeautifulSoup(page_contents, 'html.parser')"
   ]
  },
  {
   "cell_type": "code",
   "execution_count": 17,
   "id": "776b25cf",
   "metadata": {},
   "outputs": [],
   "source": [
    "selection_class = 'f3 lh-condensed mb-0 mt-1 Link--primary'\n",
    "\n",
    "topic_title_tags = doc.find_all('p', {'class': selection_class})"
   ]
  },
  {
   "cell_type": "code",
   "execution_count": 52,
   "id": "c7d895eb",
   "metadata": {},
   "outputs": [],
   "source": [
    "desc_selector = 'f5 color-fg-muted mb-0 mt-1'\n",
    "topic_desc_tags = doc.find_all('p', {'class': desc_selector})"
   ]
  },
  {
   "cell_type": "code",
   "execution_count": 53,
   "id": "5ad734c3",
   "metadata": {},
   "outputs": [
    {
     "data": {
      "text/plain": [
       "[<p class=\"f5 color-fg-muted mb-0 mt-1\">\n",
       "               3D modeling is the process of virtually developing the surface and structure of a 3D object.\n",
       "             </p>,\n",
       " <p class=\"f5 color-fg-muted mb-0 mt-1\">\n",
       "               Ajax is a technique for creating interactive web applications.\n",
       "             </p>,\n",
       " <p class=\"f5 color-fg-muted mb-0 mt-1\">\n",
       "               Algorithms are self-contained sequences that carry out a variety of tasks.\n",
       "             </p>,\n",
       " <p class=\"f5 color-fg-muted mb-0 mt-1\">\n",
       "               Amp is a non-blocking concurrency framework for PHP.\n",
       "             </p>,\n",
       " <p class=\"f5 color-fg-muted mb-0 mt-1\">\n",
       "               Android is an operating system built by Google designed for mobile devices.\n",
       "             </p>,\n",
       " <p class=\"f5 color-fg-muted mb-0 mt-1\">\n",
       "               Angular is an open source web application platform.\n",
       "             </p>,\n",
       " <p class=\"f5 color-fg-muted mb-0 mt-1\">\n",
       "               Ansible is a simple and powerful automation engine.\n",
       "             </p>,\n",
       " <p class=\"f5 color-fg-muted mb-0 mt-1\">\n",
       "               An API (Application Programming Interface) is a collection of protocols and subroutines for building software.\n",
       "             </p>,\n",
       " <p class=\"f5 color-fg-muted mb-0 mt-1\">\n",
       "               Arduino is an open source hardware and software company and maker community.\n",
       "             </p>,\n",
       " <p class=\"f5 color-fg-muted mb-0 mt-1\">\n",
       "               ASP.NET is a web framework for building modern web apps and services.\n",
       "             </p>,\n",
       " <p class=\"f5 color-fg-muted mb-0 mt-1\">\n",
       "               Atom is a open source text editor built with web technologies.\n",
       "             </p>,\n",
       " <p class=\"f5 color-fg-muted mb-0 mt-1\">\n",
       "               An awesome list is a list of awesome things curated by the community.\n",
       "             </p>,\n",
       " <p class=\"f5 color-fg-muted mb-0 mt-1\">\n",
       "               Amazon Web Services provides on-demand cloud computing platforms on a subscription basis.\n",
       "             </p>,\n",
       " <p class=\"f5 color-fg-muted mb-0 mt-1\">\n",
       "               Azure is a cloud computing service created by Microsoft.\n",
       "             </p>,\n",
       " <p class=\"f5 color-fg-muted mb-0 mt-1\">\n",
       "               Babel is a compiler for writing next generation JavaScript, today.\n",
       "             </p>,\n",
       " <p class=\"f5 color-fg-muted mb-0 mt-1\">\n",
       "               Bash is a shell and command language interpreter for the GNU operating system.\n",
       "             </p>,\n",
       " <p class=\"f5 color-fg-muted mb-0 mt-1\">\n",
       "               Bitcoin is a cryptocurrency developed by Satoshi Nakamoto.\n",
       "             </p>,\n",
       " <p class=\"f5 color-fg-muted mb-0 mt-1\">\n",
       "               Bootstrap is an HTML, CSS, and JavaScript framework.\n",
       "             </p>,\n",
       " <p class=\"f5 color-fg-muted mb-0 mt-1\">\n",
       "               A bot is an application that runs automated tasks over the Internet.\n",
       "             </p>,\n",
       " <p class=\"f5 color-fg-muted mb-0 mt-1\">\n",
       "               C is a general purpose programming language that first appeared in 1972.\n",
       "             </p>,\n",
       " <p class=\"f5 color-fg-muted mb-0 mt-1\">\n",
       "               Chrome is a web browser from the tech company Google.\n",
       "             </p>,\n",
       " <p class=\"f5 color-fg-muted mb-0 mt-1\">\n",
       "               Google Chrome Extensions are add-ons that allow users to customize their Chrome web browser.\n",
       "             </p>,\n",
       " <p class=\"f5 color-fg-muted mb-0 mt-1\">\n",
       "               A CLI, or command-line interface, is a console that helps users issue commands to a program.\n",
       "             </p>,\n",
       " <p class=\"f5 color-fg-muted mb-0 mt-1\">\n",
       "               Clojure is a dynamic, general-purpose programming language.\n",
       "             </p>,\n",
       " <p class=\"f5 color-fg-muted mb-0 mt-1\">\n",
       "               Automate your code review with style, quality, security, and test‑coverage checks when you need them.\n",
       "             </p>,\n",
       " <p class=\"f5 color-fg-muted mb-0 mt-1\">\n",
       "               Ensure your code meets quality standards and ship with confidence.\n",
       "             </p>,\n",
       " <p class=\"f5 color-fg-muted mb-0 mt-1\">\n",
       "               Compilers are software that translate higher-level programming languages to lower-level languages (e.g. machine code).\n",
       "             </p>,\n",
       " <p class=\"f5 color-fg-muted mb-0 mt-1\">\n",
       "               Automatically build and test your code as you push it upstream, preventing bugs from being deployed to production.\n",
       "             </p>,\n",
       " <p class=\"f5 color-fg-muted mb-0 mt-1\">\n",
       "               The coronavirus disease 2019 (COVID-19) is an infectious disease caused by SARS-CoV-2.\n",
       "             </p>,\n",
       " <p class=\"f5 color-fg-muted mb-0 mt-1\">\n",
       "               C++ is a general purpose and object-oriented programming language.\n",
       "             </p>]"
      ]
     },
     "execution_count": 53,
     "metadata": {},
     "output_type": "execute_result"
    }
   ],
   "source": [
    "topic_desc_tags"
   ]
  },
  {
   "cell_type": "code",
   "execution_count": 20,
   "id": "0f569b41",
   "metadata": {},
   "outputs": [
    {
     "data": {
      "text/plain": [
       "[<p class=\"f3 lh-condensed mb-0 mt-1 Link--primary\">3D</p>,\n",
       " <p class=\"f3 lh-condensed mb-0 mt-1 Link--primary\">Ajax</p>,\n",
       " <p class=\"f3 lh-condensed mb-0 mt-1 Link--primary\">Algorithm</p>,\n",
       " <p class=\"f3 lh-condensed mb-0 mt-1 Link--primary\">Amp</p>,\n",
       " <p class=\"f3 lh-condensed mb-0 mt-1 Link--primary\">Android</p>]"
      ]
     },
     "execution_count": 20,
     "metadata": {},
     "output_type": "execute_result"
    }
   ],
   "source": [
    "topic_title_tags[:5]"
   ]
  },
  {
   "cell_type": "code",
   "execution_count": 56,
   "id": "4ab6c337",
   "metadata": {},
   "outputs": [
    {
     "data": {
      "text/plain": [
       "[<p class=\"f5 color-fg-muted mb-0 mt-1\">\n",
       "               3D modeling is the process of virtually developing the surface and structure of a 3D object.\n",
       "             </p>,\n",
       " <p class=\"f5 color-fg-muted mb-0 mt-1\">\n",
       "               Ajax is a technique for creating interactive web applications.\n",
       "             </p>,\n",
       " <p class=\"f5 color-fg-muted mb-0 mt-1\">\n",
       "               Algorithms are self-contained sequences that carry out a variety of tasks.\n",
       "             </p>,\n",
       " <p class=\"f5 color-fg-muted mb-0 mt-1\">\n",
       "               Amp is a non-blocking concurrency framework for PHP.\n",
       "             </p>,\n",
       " <p class=\"f5 color-fg-muted mb-0 mt-1\">\n",
       "               Android is an operating system built by Google designed for mobile devices.\n",
       "             </p>]"
      ]
     },
     "execution_count": 56,
     "metadata": {},
     "output_type": "execute_result"
    }
   ],
   "source": [
    "topic_desc_tags[:5]\n"
   ]
  },
  {
   "cell_type": "code",
   "execution_count": 25,
   "id": "85b890f4",
   "metadata": {},
   "outputs": [],
   "source": [
    "topic_link_tags = doc.find_all('a', {'class': 'd-flex no-underline'})"
   ]
  },
  {
   "cell_type": "code",
   "execution_count": 27,
   "id": "1abff40c",
   "metadata": {},
   "outputs": [
    {
     "data": {
      "text/plain": [
       "30"
      ]
     },
     "execution_count": 27,
     "metadata": {},
     "output_type": "execute_result"
    }
   ],
   "source": [
    "len(topic_link_tags)"
   ]
  },
  {
   "cell_type": "code",
   "execution_count": 28,
   "id": "c3c84965",
   "metadata": {},
   "outputs": [
    {
     "data": {
      "text/plain": [
       "<a class=\"d-flex no-underline\" data-ga-click=\"Explore, go to 3d, location:All featured topics\" href=\"/topics/3d\">\n",
       "<div class=\"color-bg-accent f4 color-fg-muted text-bold rounded mr-3 flex-shrink-0 text-center\" style=\"width:64px; height:64px; line-height:64px;\">\n",
       "            #\n",
       "          </div>\n",
       "<div class=\"d-sm-flex flex-auto\">\n",
       "<div class=\"flex-auto\">\n",
       "<p class=\"f3 lh-condensed mb-0 mt-1 Link--primary\">3D</p>\n",
       "<p class=\"f5 color-fg-muted mb-0 mt-1\">\n",
       "              3D modeling is the process of virtually developing the surface and structure of a 3D object.\n",
       "            </p>\n",
       "</div>\n",
       "<div class=\"d-inline-block js-toggler-container starring-container\">\n",
       "<a aria-label=\"You must be signed in to star a topic\" class=\"btn btn-sm d-flex flex-items-center\" data-ga-click=\"Explore, click star button when signed out,\n",
       "        action:topics#index;\n",
       "        text:Star\" href=\"/login?return_to=%2Ftopics%2F3d\" title=\"You must be signed in to star a topic\">\n",
       "<svg aria-hidden=\"true\" class=\"octicon octicon-star mr-1\" data-view-component=\"true\" height=\"16\" version=\"1.1\" viewbox=\"0 0 16 16\" width=\"16\">\n",
       "<path d=\"M8 .25a.75.75 0 01.673.418l1.882 3.815 4.21.612a.75.75 0 01.416 1.279l-3.046 2.97.719 4.192a.75.75 0 01-1.088.791L8 12.347l-3.766 1.98a.75.75 0 01-1.088-.79l.72-4.194L.818 6.374a.75.75 0 01.416-1.28l4.21-.611L7.327.668A.75.75 0 018 .25zm0 2.445L6.615 5.5a.75.75 0 01-.564.41l-3.097.45 2.24 2.184a.75.75 0 01.216.664l-.528 3.084 2.769-1.456a.75.75 0 01.698 0l2.77 1.456-.53-3.084a.75.75 0 01.216-.664l2.24-2.183-3.096-.45a.75.75 0 01-.564-.41L8 2.694v.001z\" fill-rule=\"evenodd\"></path>\n",
       "</svg>Star\n",
       "    </a>\n",
       "</div>\n",
       "</div>\n",
       "</a>"
      ]
     },
     "execution_count": 28,
     "metadata": {},
     "output_type": "execute_result"
    }
   ],
   "source": [
    "topic_link_tags[0]"
   ]
  },
  {
   "cell_type": "code",
   "execution_count": 29,
   "id": "bac0a2ff",
   "metadata": {},
   "outputs": [
    {
     "name": "stdout",
     "output_type": "stream",
     "text": [
      "https://github.com/topics/3d\n"
     ]
    }
   ],
   "source": [
    "topic0_url = \"https://github.com\" + topic_link_tags[0]['href']\n",
    "print(topic0_url)"
   ]
  },
  {
   "cell_type": "code",
   "execution_count": 30,
   "id": "745d8faf",
   "metadata": {},
   "outputs": [
    {
     "name": "stdout",
     "output_type": "stream",
     "text": [
      "['3D', 'Ajax', 'Algorithm', 'Amp', 'Android', 'Angular', 'Ansible', 'API', 'Arduino', 'ASP.NET', 'Atom', 'Awesome Lists', 'Amazon Web Services', 'Azure', 'Babel', 'Bash', 'Bitcoin', 'Bootstrap', 'Bot', 'C', 'Chrome', 'Chrome extension', 'Command line interface', 'Clojure', 'Code quality', 'Code review', 'Compiler', 'Continuous integration', 'COVID-19', 'C++']\n"
     ]
    }
   ],
   "source": [
    "topic_titles = []\n",
    "\n",
    "for tag in topic_title_tags:\n",
    "    topic_titles.append(tag.text)\n",
    "    \n",
    "print(topic_titles)"
   ]
  },
  {
   "cell_type": "code",
   "execution_count": 57,
   "id": "503f398b",
   "metadata": {},
   "outputs": [
    {
     "data": {
      "text/plain": [
       "['3D modeling is the process of virtually developing the surface and structure of a 3D object.',\n",
       " 'Ajax is a technique for creating interactive web applications.',\n",
       " 'Algorithms are self-contained sequences that carry out a variety of tasks.',\n",
       " 'Amp is a non-blocking concurrency framework for PHP.',\n",
       " 'Android is an operating system built by Google designed for mobile devices.',\n",
       " 'Angular is an open source web application platform.',\n",
       " 'Ansible is a simple and powerful automation engine.',\n",
       " 'An API (Application Programming Interface) is a collection of protocols and subroutines for building software.',\n",
       " 'Arduino is an open source hardware and software company and maker community.',\n",
       " 'ASP.NET is a web framework for building modern web apps and services.',\n",
       " 'Atom is a open source text editor built with web technologies.',\n",
       " 'An awesome list is a list of awesome things curated by the community.',\n",
       " 'Amazon Web Services provides on-demand cloud computing platforms on a subscription basis.',\n",
       " 'Azure is a cloud computing service created by Microsoft.',\n",
       " 'Babel is a compiler for writing next generation JavaScript, today.',\n",
       " 'Bash is a shell and command language interpreter for the GNU operating system.',\n",
       " 'Bitcoin is a cryptocurrency developed by Satoshi Nakamoto.',\n",
       " 'Bootstrap is an HTML, CSS, and JavaScript framework.',\n",
       " 'A bot is an application that runs automated tasks over the Internet.',\n",
       " 'C is a general purpose programming language that first appeared in 1972.',\n",
       " 'Chrome is a web browser from the tech company Google.',\n",
       " 'Google Chrome Extensions are add-ons that allow users to customize their Chrome web browser.',\n",
       " 'A CLI, or command-line interface, is a console that helps users issue commands to a program.',\n",
       " 'Clojure is a dynamic, general-purpose programming language.',\n",
       " 'Automate your code review with style, quality, security, and test‑coverage checks when you need them.',\n",
       " 'Ensure your code meets quality standards and ship with confidence.',\n",
       " 'Compilers are software that translate higher-level programming languages to lower-level languages (e.g. machine code).',\n",
       " 'Automatically build and test your code as you push it upstream, preventing bugs from being deployed to production.',\n",
       " 'The coronavirus disease 2019 (COVID-19) is an infectious disease caused by SARS-CoV-2.',\n",
       " 'C++ is a general purpose and object-oriented programming language.']"
      ]
     },
     "execution_count": 57,
     "metadata": {},
     "output_type": "execute_result"
    }
   ],
   "source": [
    "topic_descs = []\n",
    "\n",
    "for tag in topic_desc_tags:\n",
    "    topic_descs.append(tag.text.strip())\n",
    "    \n",
    "topic_descs"
   ]
  },
  {
   "cell_type": "code",
   "execution_count": 34,
   "id": "0029a501",
   "metadata": {},
   "outputs": [
    {
     "data": {
      "text/plain": [
       "['https://github.com/topics/3d',\n",
       " 'https://github.com/topics/ajax',\n",
       " 'https://github.com/topics/algorithm',\n",
       " 'https://github.com/topics/amphp',\n",
       " 'https://github.com/topics/android',\n",
       " 'https://github.com/topics/angular',\n",
       " 'https://github.com/topics/ansible',\n",
       " 'https://github.com/topics/api',\n",
       " 'https://github.com/topics/arduino',\n",
       " 'https://github.com/topics/aspnet',\n",
       " 'https://github.com/topics/atom',\n",
       " 'https://github.com/topics/awesome',\n",
       " 'https://github.com/topics/aws',\n",
       " 'https://github.com/topics/azure',\n",
       " 'https://github.com/topics/babel',\n",
       " 'https://github.com/topics/bash',\n",
       " 'https://github.com/topics/bitcoin',\n",
       " 'https://github.com/topics/bootstrap',\n",
       " 'https://github.com/topics/bot',\n",
       " 'https://github.com/topics/c',\n",
       " 'https://github.com/topics/chrome',\n",
       " 'https://github.com/topics/chrome-extension',\n",
       " 'https://github.com/topics/cli',\n",
       " 'https://github.com/topics/clojure',\n",
       " 'https://github.com/topics/code-quality',\n",
       " 'https://github.com/topics/code-review',\n",
       " 'https://github.com/topics/compiler',\n",
       " 'https://github.com/topics/continuous-integration',\n",
       " 'https://github.com/topics/covid-19',\n",
       " 'https://github.com/topics/cpp']"
      ]
     },
     "execution_count": 34,
     "metadata": {},
     "output_type": "execute_result"
    }
   ],
   "source": [
    "topic_urls = []\n",
    "base_url = 'https://github.com'\n",
    "\n",
    "for tag in topic_link_tags:\n",
    "    topic_urls.append(base_url + tag['href'])\n",
    "    \n",
    "topic_urls"
   ]
  },
  {
   "cell_type": "code",
   "execution_count": 35,
   "id": "0f07a38d",
   "metadata": {},
   "outputs": [
    {
     "name": "stdout",
     "output_type": "stream",
     "text": [
      "Requirement already satisfied: pandas in c:\\users\\user\\anaconda3\\lib\\site-packages (1.2.4)\n",
      "Requirement already satisfied: pytz>=2017.3 in c:\\users\\user\\anaconda3\\lib\\site-packages (from pandas) (2021.1)\n",
      "Requirement already satisfied: numpy>=1.16.5 in c:\\users\\user\\anaconda3\\lib\\site-packages (from pandas) (1.20.1)\n",
      "Requirement already satisfied: python-dateutil>=2.7.3 in c:\\users\\user\\anaconda3\\lib\\site-packages (from pandas) (2.8.1)\n",
      "Requirement already satisfied: six>=1.5 in c:\\users\\user\\anaconda3\\lib\\site-packages (from python-dateutil>=2.7.3->pandas) (1.15.0)\n"
     ]
    }
   ],
   "source": [
    "!pip install pandas\n"
   ]
  },
  {
   "cell_type": "code",
   "execution_count": 69,
   "id": "4e3ea84c",
   "metadata": {},
   "outputs": [],
   "source": [
    "import pandas as pd\n"
   ]
  },
  {
   "cell_type": "code",
   "execution_count": 70,
   "id": "6b8c49ae",
   "metadata": {},
   "outputs": [],
   "source": [
    "topics_dict = {\n",
    "    'title': topic_titles,\n",
    "    'description': topic_descs,\n",
    "    'url': topic_urls\n",
    "}"
   ]
  },
  {
   "cell_type": "code",
   "execution_count": 71,
   "id": "af82e48c",
   "metadata": {},
   "outputs": [
    {
     "name": "stdout",
     "output_type": "stream",
     "text": [
      "30 30 30\n"
     ]
    }
   ],
   "source": [
    "print(len(topic_descs),len(topic_titles),len(topic_urls))"
   ]
  },
  {
   "cell_type": "code",
   "execution_count": 72,
   "id": "a505f880",
   "metadata": {},
   "outputs": [],
   "source": [
    "topics_df = pd.DataFrame(topics_dict)"
   ]
  },
  {
   "cell_type": "code",
   "execution_count": 73,
   "id": "164582fd",
   "metadata": {},
   "outputs": [
    {
     "data": {
      "text/html": [
       "<div>\n",
       "<style scoped>\n",
       "    .dataframe tbody tr th:only-of-type {\n",
       "        vertical-align: middle;\n",
       "    }\n",
       "\n",
       "    .dataframe tbody tr th {\n",
       "        vertical-align: top;\n",
       "    }\n",
       "\n",
       "    .dataframe thead th {\n",
       "        text-align: right;\n",
       "    }\n",
       "</style>\n",
       "<table border=\"1\" class=\"dataframe\">\n",
       "  <thead>\n",
       "    <tr style=\"text-align: right;\">\n",
       "      <th></th>\n",
       "      <th>title</th>\n",
       "      <th>description</th>\n",
       "      <th>url</th>\n",
       "    </tr>\n",
       "  </thead>\n",
       "  <tbody>\n",
       "    <tr>\n",
       "      <th>0</th>\n",
       "      <td>3D</td>\n",
       "      <td>3D modeling is the process of virtually develo...</td>\n",
       "      <td>https://github.com/topics/3d</td>\n",
       "    </tr>\n",
       "    <tr>\n",
       "      <th>1</th>\n",
       "      <td>Ajax</td>\n",
       "      <td>Ajax is a technique for creating interactive w...</td>\n",
       "      <td>https://github.com/topics/ajax</td>\n",
       "    </tr>\n",
       "    <tr>\n",
       "      <th>2</th>\n",
       "      <td>Algorithm</td>\n",
       "      <td>Algorithms are self-contained sequences that c...</td>\n",
       "      <td>https://github.com/topics/algorithm</td>\n",
       "    </tr>\n",
       "    <tr>\n",
       "      <th>3</th>\n",
       "      <td>Amp</td>\n",
       "      <td>Amp is a non-blocking concurrency framework fo...</td>\n",
       "      <td>https://github.com/topics/amphp</td>\n",
       "    </tr>\n",
       "    <tr>\n",
       "      <th>4</th>\n",
       "      <td>Android</td>\n",
       "      <td>Android is an operating system built by Google...</td>\n",
       "      <td>https://github.com/topics/android</td>\n",
       "    </tr>\n",
       "    <tr>\n",
       "      <th>5</th>\n",
       "      <td>Angular</td>\n",
       "      <td>Angular is an open source web application plat...</td>\n",
       "      <td>https://github.com/topics/angular</td>\n",
       "    </tr>\n",
       "    <tr>\n",
       "      <th>6</th>\n",
       "      <td>Ansible</td>\n",
       "      <td>Ansible is a simple and powerful automation en...</td>\n",
       "      <td>https://github.com/topics/ansible</td>\n",
       "    </tr>\n",
       "    <tr>\n",
       "      <th>7</th>\n",
       "      <td>API</td>\n",
       "      <td>An API (Application Programming Interface) is ...</td>\n",
       "      <td>https://github.com/topics/api</td>\n",
       "    </tr>\n",
       "    <tr>\n",
       "      <th>8</th>\n",
       "      <td>Arduino</td>\n",
       "      <td>Arduino is an open source hardware and softwar...</td>\n",
       "      <td>https://github.com/topics/arduino</td>\n",
       "    </tr>\n",
       "    <tr>\n",
       "      <th>9</th>\n",
       "      <td>ASP.NET</td>\n",
       "      <td>ASP.NET is a web framework for building modern...</td>\n",
       "      <td>https://github.com/topics/aspnet</td>\n",
       "    </tr>\n",
       "    <tr>\n",
       "      <th>10</th>\n",
       "      <td>Atom</td>\n",
       "      <td>Atom is a open source text editor built with w...</td>\n",
       "      <td>https://github.com/topics/atom</td>\n",
       "    </tr>\n",
       "    <tr>\n",
       "      <th>11</th>\n",
       "      <td>Awesome Lists</td>\n",
       "      <td>An awesome list is a list of awesome things cu...</td>\n",
       "      <td>https://github.com/topics/awesome</td>\n",
       "    </tr>\n",
       "    <tr>\n",
       "      <th>12</th>\n",
       "      <td>Amazon Web Services</td>\n",
       "      <td>Amazon Web Services provides on-demand cloud c...</td>\n",
       "      <td>https://github.com/topics/aws</td>\n",
       "    </tr>\n",
       "    <tr>\n",
       "      <th>13</th>\n",
       "      <td>Azure</td>\n",
       "      <td>Azure is a cloud computing service created by ...</td>\n",
       "      <td>https://github.com/topics/azure</td>\n",
       "    </tr>\n",
       "    <tr>\n",
       "      <th>14</th>\n",
       "      <td>Babel</td>\n",
       "      <td>Babel is a compiler for writing next generatio...</td>\n",
       "      <td>https://github.com/topics/babel</td>\n",
       "    </tr>\n",
       "    <tr>\n",
       "      <th>15</th>\n",
       "      <td>Bash</td>\n",
       "      <td>Bash is a shell and command language interpret...</td>\n",
       "      <td>https://github.com/topics/bash</td>\n",
       "    </tr>\n",
       "    <tr>\n",
       "      <th>16</th>\n",
       "      <td>Bitcoin</td>\n",
       "      <td>Bitcoin is a cryptocurrency developed by Satos...</td>\n",
       "      <td>https://github.com/topics/bitcoin</td>\n",
       "    </tr>\n",
       "    <tr>\n",
       "      <th>17</th>\n",
       "      <td>Bootstrap</td>\n",
       "      <td>Bootstrap is an HTML, CSS, and JavaScript fram...</td>\n",
       "      <td>https://github.com/topics/bootstrap</td>\n",
       "    </tr>\n",
       "    <tr>\n",
       "      <th>18</th>\n",
       "      <td>Bot</td>\n",
       "      <td>A bot is an application that runs automated ta...</td>\n",
       "      <td>https://github.com/topics/bot</td>\n",
       "    </tr>\n",
       "    <tr>\n",
       "      <th>19</th>\n",
       "      <td>C</td>\n",
       "      <td>C is a general purpose programming language th...</td>\n",
       "      <td>https://github.com/topics/c</td>\n",
       "    </tr>\n",
       "    <tr>\n",
       "      <th>20</th>\n",
       "      <td>Chrome</td>\n",
       "      <td>Chrome is a web browser from the tech company ...</td>\n",
       "      <td>https://github.com/topics/chrome</td>\n",
       "    </tr>\n",
       "    <tr>\n",
       "      <th>21</th>\n",
       "      <td>Chrome extension</td>\n",
       "      <td>Google Chrome Extensions are add-ons that allo...</td>\n",
       "      <td>https://github.com/topics/chrome-extension</td>\n",
       "    </tr>\n",
       "    <tr>\n",
       "      <th>22</th>\n",
       "      <td>Command line interface</td>\n",
       "      <td>A CLI, or command-line interface, is a console...</td>\n",
       "      <td>https://github.com/topics/cli</td>\n",
       "    </tr>\n",
       "    <tr>\n",
       "      <th>23</th>\n",
       "      <td>Clojure</td>\n",
       "      <td>Clojure is a dynamic, general-purpose programm...</td>\n",
       "      <td>https://github.com/topics/clojure</td>\n",
       "    </tr>\n",
       "    <tr>\n",
       "      <th>24</th>\n",
       "      <td>Code quality</td>\n",
       "      <td>Automate your code review with style, quality,...</td>\n",
       "      <td>https://github.com/topics/code-quality</td>\n",
       "    </tr>\n",
       "    <tr>\n",
       "      <th>25</th>\n",
       "      <td>Code review</td>\n",
       "      <td>Ensure your code meets quality standards and s...</td>\n",
       "      <td>https://github.com/topics/code-review</td>\n",
       "    </tr>\n",
       "    <tr>\n",
       "      <th>26</th>\n",
       "      <td>Compiler</td>\n",
       "      <td>Compilers are software that translate higher-l...</td>\n",
       "      <td>https://github.com/topics/compiler</td>\n",
       "    </tr>\n",
       "    <tr>\n",
       "      <th>27</th>\n",
       "      <td>Continuous integration</td>\n",
       "      <td>Automatically build and test your code as you ...</td>\n",
       "      <td>https://github.com/topics/continuous-integration</td>\n",
       "    </tr>\n",
       "    <tr>\n",
       "      <th>28</th>\n",
       "      <td>COVID-19</td>\n",
       "      <td>The coronavirus disease 2019 (COVID-19) is an ...</td>\n",
       "      <td>https://github.com/topics/covid-19</td>\n",
       "    </tr>\n",
       "    <tr>\n",
       "      <th>29</th>\n",
       "      <td>C++</td>\n",
       "      <td>C++ is a general purpose and object-oriented p...</td>\n",
       "      <td>https://github.com/topics/cpp</td>\n",
       "    </tr>\n",
       "  </tbody>\n",
       "</table>\n",
       "</div>"
      ],
      "text/plain": [
       "                     title                                        description  \\\n",
       "0                       3D  3D modeling is the process of virtually develo...   \n",
       "1                     Ajax  Ajax is a technique for creating interactive w...   \n",
       "2                Algorithm  Algorithms are self-contained sequences that c...   \n",
       "3                      Amp  Amp is a non-blocking concurrency framework fo...   \n",
       "4                  Android  Android is an operating system built by Google...   \n",
       "5                  Angular  Angular is an open source web application plat...   \n",
       "6                  Ansible  Ansible is a simple and powerful automation en...   \n",
       "7                      API  An API (Application Programming Interface) is ...   \n",
       "8                  Arduino  Arduino is an open source hardware and softwar...   \n",
       "9                  ASP.NET  ASP.NET is a web framework for building modern...   \n",
       "10                    Atom  Atom is a open source text editor built with w...   \n",
       "11           Awesome Lists  An awesome list is a list of awesome things cu...   \n",
       "12     Amazon Web Services  Amazon Web Services provides on-demand cloud c...   \n",
       "13                   Azure  Azure is a cloud computing service created by ...   \n",
       "14                   Babel  Babel is a compiler for writing next generatio...   \n",
       "15                    Bash  Bash is a shell and command language interpret...   \n",
       "16                 Bitcoin  Bitcoin is a cryptocurrency developed by Satos...   \n",
       "17               Bootstrap  Bootstrap is an HTML, CSS, and JavaScript fram...   \n",
       "18                     Bot  A bot is an application that runs automated ta...   \n",
       "19                       C  C is a general purpose programming language th...   \n",
       "20                  Chrome  Chrome is a web browser from the tech company ...   \n",
       "21        Chrome extension  Google Chrome Extensions are add-ons that allo...   \n",
       "22  Command line interface  A CLI, or command-line interface, is a console...   \n",
       "23                 Clojure  Clojure is a dynamic, general-purpose programm...   \n",
       "24            Code quality  Automate your code review with style, quality,...   \n",
       "25             Code review  Ensure your code meets quality standards and s...   \n",
       "26                Compiler  Compilers are software that translate higher-l...   \n",
       "27  Continuous integration  Automatically build and test your code as you ...   \n",
       "28                COVID-19  The coronavirus disease 2019 (COVID-19) is an ...   \n",
       "29                     C++  C++ is a general purpose and object-oriented p...   \n",
       "\n",
       "                                                 url  \n",
       "0                       https://github.com/topics/3d  \n",
       "1                     https://github.com/topics/ajax  \n",
       "2                https://github.com/topics/algorithm  \n",
       "3                    https://github.com/topics/amphp  \n",
       "4                  https://github.com/topics/android  \n",
       "5                  https://github.com/topics/angular  \n",
       "6                  https://github.com/topics/ansible  \n",
       "7                      https://github.com/topics/api  \n",
       "8                  https://github.com/topics/arduino  \n",
       "9                   https://github.com/topics/aspnet  \n",
       "10                    https://github.com/topics/atom  \n",
       "11                 https://github.com/topics/awesome  \n",
       "12                     https://github.com/topics/aws  \n",
       "13                   https://github.com/topics/azure  \n",
       "14                   https://github.com/topics/babel  \n",
       "15                    https://github.com/topics/bash  \n",
       "16                 https://github.com/topics/bitcoin  \n",
       "17               https://github.com/topics/bootstrap  \n",
       "18                     https://github.com/topics/bot  \n",
       "19                       https://github.com/topics/c  \n",
       "20                  https://github.com/topics/chrome  \n",
       "21        https://github.com/topics/chrome-extension  \n",
       "22                     https://github.com/topics/cli  \n",
       "23                 https://github.com/topics/clojure  \n",
       "24            https://github.com/topics/code-quality  \n",
       "25             https://github.com/topics/code-review  \n",
       "26                https://github.com/topics/compiler  \n",
       "27  https://github.com/topics/continuous-integration  \n",
       "28                https://github.com/topics/covid-19  \n",
       "29                     https://github.com/topics/cpp  "
      ]
     },
     "execution_count": 73,
     "metadata": {},
     "output_type": "execute_result"
    }
   ],
   "source": [
    "topics_df"
   ]
  },
  {
   "cell_type": "code",
   "execution_count": 74,
   "id": "35d78f66",
   "metadata": {},
   "outputs": [],
   "source": [
    "topics_df.to_csv('topic.csv',index=None)"
   ]
  },
  {
   "cell_type": "markdown",
   "id": "b51d3166",
   "metadata": {},
   "source": [
    "__Getting information out of a topic page__\n"
   ]
  },
  {
   "cell_type": "code",
   "execution_count": 75,
   "id": "c1e999a3",
   "metadata": {},
   "outputs": [],
   "source": [
    "topic_page_url=topic_urls[0]"
   ]
  },
  {
   "cell_type": "code",
   "execution_count": 76,
   "id": "8c741d1a",
   "metadata": {},
   "outputs": [
    {
     "data": {
      "text/plain": [
       "'https://github.com/topics/3d'"
      ]
     },
     "execution_count": 76,
     "metadata": {},
     "output_type": "execute_result"
    }
   ],
   "source": [
    "topic_page_url"
   ]
  },
  {
   "cell_type": "code",
   "execution_count": 78,
   "id": "264b5e45",
   "metadata": {},
   "outputs": [],
   "source": [
    "response=requests.get(topic_page_url)"
   ]
  },
  {
   "cell_type": "code",
   "execution_count": 79,
   "id": "cbcec963",
   "metadata": {},
   "outputs": [
    {
     "data": {
      "text/plain": [
       "200"
      ]
     },
     "execution_count": 79,
     "metadata": {},
     "output_type": "execute_result"
    }
   ],
   "source": [
    "response.status_code"
   ]
  },
  {
   "cell_type": "code",
   "execution_count": 80,
   "id": "6eb0b4e1",
   "metadata": {},
   "outputs": [],
   "source": [
    "topic_doc = BeautifulSoup(response.text, 'html.parser')"
   ]
  },
  {
   "cell_type": "code",
   "execution_count": 86,
   "id": "bf344f23",
   "metadata": {},
   "outputs": [],
   "source": [
    "h3_selection_class = 'f3 color-fg-muted text-normal lh-condensed'\n",
    "repo_tags = topic_doc.find_all('h3', {'class': h3_selection_class} )"
   ]
  },
  {
   "cell_type": "code",
   "execution_count": 87,
   "id": "161ced75",
   "metadata": {},
   "outputs": [
    {
     "data": {
      "text/plain": [
       "<h3 class=\"f3 color-fg-muted text-normal lh-condensed\">\n",
       "<a data-ga-click=\"Explore, go to repository owner, location:explore feed\" data-hydro-click='{\"event_type\":\"explore.click\",\"payload\":{\"click_context\":\"REPOSITORY_CARD\",\"click_target\":\"OWNER\",\"click_visual_representation\":\"REPOSITORY_OWNER_HEADING\",\"actor_id\":null,\"record_id\":97088,\"originating_url\":\"https://github.com/topics/3d\",\"user_id\":null}}' data-hydro-click-hmac=\"4bdbc49d3c05ae7f70b531fbce709a384200b0768554e0172950286a8db30940\" data-view-component=\"true\" href=\"/mrdoob\">\n",
       "            mrdoob\n",
       "</a>          /\n",
       "          <a class=\"text-bold wb-break-word\" data-ga-click=\"Explore, go to repository, location:explore feed\" data-hydro-click='{\"event_type\":\"explore.click\",\"payload\":{\"click_context\":\"REPOSITORY_CARD\",\"click_target\":\"REPOSITORY\",\"click_visual_representation\":\"REPOSITORY_NAME_HEADING\",\"actor_id\":null,\"record_id\":576201,\"originating_url\":\"https://github.com/topics/3d\",\"user_id\":null}}' data-hydro-click-hmac=\"517d3d5cb9d89752156923904a4238816bc9b51ab7772f3e3644ce897d8dd4e5\" data-view-component=\"true\" href=\"/mrdoob/three.js\">\n",
       "            three.js\n",
       "</a> </h3>"
      ]
     },
     "execution_count": 87,
     "metadata": {},
     "output_type": "execute_result"
    }
   ],
   "source": [
    "repo_tags[0]"
   ]
  },
  {
   "cell_type": "code",
   "execution_count": 88,
   "id": "2aaab79e",
   "metadata": {},
   "outputs": [
    {
     "data": {
      "text/plain": [
       "30"
      ]
     },
     "execution_count": 88,
     "metadata": {},
     "output_type": "execute_result"
    }
   ],
   "source": [
    "len(repo_tags)"
   ]
  },
  {
   "cell_type": "code",
   "execution_count": 89,
   "id": "675ff82e",
   "metadata": {},
   "outputs": [],
   "source": [
    "a_tags = repo_tags[0].find_all('a')"
   ]
  },
  {
   "cell_type": "code",
   "execution_count": 90,
   "id": "a96e719f",
   "metadata": {},
   "outputs": [
    {
     "data": {
      "text/plain": [
       "[<a data-ga-click=\"Explore, go to repository owner, location:explore feed\" data-hydro-click='{\"event_type\":\"explore.click\",\"payload\":{\"click_context\":\"REPOSITORY_CARD\",\"click_target\":\"OWNER\",\"click_visual_representation\":\"REPOSITORY_OWNER_HEADING\",\"actor_id\":null,\"record_id\":97088,\"originating_url\":\"https://github.com/topics/3d\",\"user_id\":null}}' data-hydro-click-hmac=\"4bdbc49d3c05ae7f70b531fbce709a384200b0768554e0172950286a8db30940\" data-view-component=\"true\" href=\"/mrdoob\">\n",
       "             mrdoob\n",
       " </a>,\n",
       " <a class=\"text-bold wb-break-word\" data-ga-click=\"Explore, go to repository, location:explore feed\" data-hydro-click='{\"event_type\":\"explore.click\",\"payload\":{\"click_context\":\"REPOSITORY_CARD\",\"click_target\":\"REPOSITORY\",\"click_visual_representation\":\"REPOSITORY_NAME_HEADING\",\"actor_id\":null,\"record_id\":576201,\"originating_url\":\"https://github.com/topics/3d\",\"user_id\":null}}' data-hydro-click-hmac=\"517d3d5cb9d89752156923904a4238816bc9b51ab7772f3e3644ce897d8dd4e5\" data-view-component=\"true\" href=\"/mrdoob/three.js\">\n",
       "             three.js\n",
       " </a>]"
      ]
     },
     "execution_count": 90,
     "metadata": {},
     "output_type": "execute_result"
    }
   ],
   "source": [
    "a_tags"
   ]
  },
  {
   "cell_type": "code",
   "execution_count": 91,
   "id": "55a2c081",
   "metadata": {},
   "outputs": [
    {
     "data": {
      "text/plain": [
       "'mrdoob'"
      ]
     },
     "execution_count": 91,
     "metadata": {},
     "output_type": "execute_result"
    }
   ],
   "source": [
    "a_tags[0].text.strip()"
   ]
  },
  {
   "cell_type": "code",
   "execution_count": 92,
   "id": "813cf472",
   "metadata": {},
   "outputs": [
    {
     "data": {
      "text/plain": [
       "'three.js'"
      ]
     },
     "execution_count": 92,
     "metadata": {},
     "output_type": "execute_result"
    }
   ],
   "source": [
    "a_tags[1].text.strip()"
   ]
  },
  {
   "cell_type": "code",
   "execution_count": 95,
   "id": "1d308b46",
   "metadata": {},
   "outputs": [
    {
     "name": "stdout",
     "output_type": "stream",
     "text": [
      "https://www.github.com/mrdoob/three.js\n"
     ]
    }
   ],
   "source": [
    "base_url='https://www.github.com'\n",
    "repo_url=base_url+ a_tags[1]['href']\n",
    "print(repo_url)"
   ]
  },
  {
   "cell_type": "code",
   "execution_count": 96,
   "id": "70a63cb8",
   "metadata": {},
   "outputs": [],
   "source": [
    "star_tags = topic_doc.find_all('a', { 'class': 'social-count float-none'})"
   ]
  },
  {
   "cell_type": "code",
   "execution_count": 98,
   "id": "1a7ed8da",
   "metadata": {},
   "outputs": [
    {
     "data": {
      "text/plain": [
       "30"
      ]
     },
     "execution_count": 98,
     "metadata": {},
     "output_type": "execute_result"
    }
   ],
   "source": [
    "len(star_tags)"
   ]
  },
  {
   "cell_type": "code",
   "execution_count": 100,
   "id": "7eefdc05",
   "metadata": {},
   "outputs": [
    {
     "data": {
      "text/plain": [
       "'75.6k'"
      ]
     },
     "execution_count": 100,
     "metadata": {},
     "output_type": "execute_result"
    }
   ],
   "source": [
    "star_tags[0].text.strip()"
   ]
  },
  {
   "cell_type": "code",
   "execution_count": 102,
   "id": "f3cd9e67",
   "metadata": {
    "scrolled": true
   },
   "outputs": [
    {
     "data": {
      "text/plain": [
       "75600"
      ]
     },
     "execution_count": 102,
     "metadata": {},
     "output_type": "execute_result"
    }
   ],
   "source": [
    "def parse_star_count(stars_str):\n",
    "    stars_str = stars_str.strip()\n",
    "    if stars_str[-1] == 'k':\n",
    "        return int(float(stars_str[:-1]) * 1000)\n",
    "    return int(stars_str)\n",
    "parse_star_count(star_tags[0].text.strip())"
   ]
  },
  {
   "cell_type": "code",
   "execution_count": 103,
   "id": "09be2726",
   "metadata": {},
   "outputs": [],
   "source": [
    "def get_repo_info(h3_tag, star_tag):\n",
    "    # returns all the required info about a repository\n",
    "    a_tags = h3_tag.find_all('a')\n",
    "    username = a_tags[0].text.strip()\n",
    "    repo_name = a_tags[1].text.strip()\n",
    "    repo_url =  base_url + a_tags[1]['href']\n",
    "    stars = parse_star_count(star_tag.text.strip())\n",
    "    return username, repo_name, stars, repo_url"
   ]
  },
  {
   "cell_type": "code",
   "execution_count": 104,
   "id": "e98b7414",
   "metadata": {},
   "outputs": [
    {
     "data": {
      "text/plain": [
       "('mrdoob', 'three.js', 75600, 'https://www.github.com/mrdoob/three.js')"
      ]
     },
     "execution_count": 104,
     "metadata": {},
     "output_type": "execute_result"
    }
   ],
   "source": [
    "get_repo_info(repo_tags[0], star_tags[0])"
   ]
  },
  {
   "cell_type": "code",
   "execution_count": 105,
   "id": "468e3a3d",
   "metadata": {},
   "outputs": [],
   "source": [
    "topic_repos_dict = {\n",
    "    'username': [],\n",
    "    'repo_name': [],\n",
    "    'stars': [],\n",
    "    'repo_url': []\n",
    "}\n",
    "\n",
    "\n",
    "for i in range(len(repo_tags)):\n",
    "    repo_info = get_repo_info(repo_tags[i], star_tags[i])\n",
    "    topic_repos_dict['username'].append(repo_info[0])\n",
    "    topic_repos_dict['repo_name'].append(repo_info[1])\n",
    "    topic_repos_dict['stars'].append(repo_info[2])\n",
    "    topic_repos_dict['repo_url'].append(repo_info[3])"
   ]
  },
  {
   "cell_type": "code",
   "execution_count": 107,
   "id": "a0c6399a",
   "metadata": {},
   "outputs": [],
   "source": [
    "topic_repos_df=pd.DataFrame(topic_repos_dict)"
   ]
  },
  {
   "cell_type": "code",
   "execution_count": 108,
   "id": "74c0ee61",
   "metadata": {},
   "outputs": [
    {
     "data": {
      "text/html": [
       "<div>\n",
       "<style scoped>\n",
       "    .dataframe tbody tr th:only-of-type {\n",
       "        vertical-align: middle;\n",
       "    }\n",
       "\n",
       "    .dataframe tbody tr th {\n",
       "        vertical-align: top;\n",
       "    }\n",
       "\n",
       "    .dataframe thead th {\n",
       "        text-align: right;\n",
       "    }\n",
       "</style>\n",
       "<table border=\"1\" class=\"dataframe\">\n",
       "  <thead>\n",
       "    <tr style=\"text-align: right;\">\n",
       "      <th></th>\n",
       "      <th>username</th>\n",
       "      <th>repo_name</th>\n",
       "      <th>stars</th>\n",
       "      <th>repo_url</th>\n",
       "    </tr>\n",
       "  </thead>\n",
       "  <tbody>\n",
       "    <tr>\n",
       "      <th>0</th>\n",
       "      <td>mrdoob</td>\n",
       "      <td>three.js</td>\n",
       "      <td>75600</td>\n",
       "      <td>https://www.github.com/mrdoob/three.js</td>\n",
       "    </tr>\n",
       "    <tr>\n",
       "      <th>1</th>\n",
       "      <td>libgdx</td>\n",
       "      <td>libgdx</td>\n",
       "      <td>19200</td>\n",
       "      <td>https://www.github.com/libgdx/libgdx</td>\n",
       "    </tr>\n",
       "    <tr>\n",
       "      <th>2</th>\n",
       "      <td>pmndrs</td>\n",
       "      <td>react-three-fiber</td>\n",
       "      <td>15600</td>\n",
       "      <td>https://www.github.com/pmndrs/react-three-fiber</td>\n",
       "    </tr>\n",
       "    <tr>\n",
       "      <th>3</th>\n",
       "      <td>BabylonJS</td>\n",
       "      <td>Babylon.js</td>\n",
       "      <td>15200</td>\n",
       "      <td>https://www.github.com/BabylonJS/Babylon.js</td>\n",
       "    </tr>\n",
       "    <tr>\n",
       "      <th>4</th>\n",
       "      <td>aframevr</td>\n",
       "      <td>aframe</td>\n",
       "      <td>13300</td>\n",
       "      <td>https://www.github.com/aframevr/aframe</td>\n",
       "    </tr>\n",
       "    <tr>\n",
       "      <th>5</th>\n",
       "      <td>ssloy</td>\n",
       "      <td>tinyrenderer</td>\n",
       "      <td>11600</td>\n",
       "      <td>https://www.github.com/ssloy/tinyrenderer</td>\n",
       "    </tr>\n",
       "    <tr>\n",
       "      <th>6</th>\n",
       "      <td>lettier</td>\n",
       "      <td>3d-game-shaders-for-beginners</td>\n",
       "      <td>11500</td>\n",
       "      <td>https://www.github.com/lettier/3d-game-shaders...</td>\n",
       "    </tr>\n",
       "    <tr>\n",
       "      <th>7</th>\n",
       "      <td>FreeCAD</td>\n",
       "      <td>FreeCAD</td>\n",
       "      <td>10100</td>\n",
       "      <td>https://www.github.com/FreeCAD/FreeCAD</td>\n",
       "    </tr>\n",
       "    <tr>\n",
       "      <th>8</th>\n",
       "      <td>metafizzy</td>\n",
       "      <td>zdog</td>\n",
       "      <td>8800</td>\n",
       "      <td>https://www.github.com/metafizzy/zdog</td>\n",
       "    </tr>\n",
       "    <tr>\n",
       "      <th>9</th>\n",
       "      <td>CesiumGS</td>\n",
       "      <td>cesium</td>\n",
       "      <td>8000</td>\n",
       "      <td>https://www.github.com/CesiumGS/cesium</td>\n",
       "    </tr>\n",
       "    <tr>\n",
       "      <th>10</th>\n",
       "      <td>timzhang642</td>\n",
       "      <td>3D-Machine-Learning</td>\n",
       "      <td>7200</td>\n",
       "      <td>https://www.github.com/timzhang642/3D-Machine-...</td>\n",
       "    </tr>\n",
       "    <tr>\n",
       "      <th>11</th>\n",
       "      <td>a1studmuffin</td>\n",
       "      <td>SpaceshipGenerator</td>\n",
       "      <td>7000</td>\n",
       "      <td>https://www.github.com/a1studmuffin/SpaceshipG...</td>\n",
       "    </tr>\n",
       "    <tr>\n",
       "      <th>12</th>\n",
       "      <td>isl-org</td>\n",
       "      <td>Open3D</td>\n",
       "      <td>5700</td>\n",
       "      <td>https://www.github.com/isl-org/Open3D</td>\n",
       "    </tr>\n",
       "    <tr>\n",
       "      <th>13</th>\n",
       "      <td>spritejs</td>\n",
       "      <td>spritejs</td>\n",
       "      <td>4700</td>\n",
       "      <td>https://www.github.com/spritejs/spritejs</td>\n",
       "    </tr>\n",
       "    <tr>\n",
       "      <th>14</th>\n",
       "      <td>domlysz</td>\n",
       "      <td>BlenderGIS</td>\n",
       "      <td>4500</td>\n",
       "      <td>https://www.github.com/domlysz/BlenderGIS</td>\n",
       "    </tr>\n",
       "    <tr>\n",
       "      <th>15</th>\n",
       "      <td>tensorspace-team</td>\n",
       "      <td>tensorspace</td>\n",
       "      <td>4500</td>\n",
       "      <td>https://www.github.com/tensorspace-team/tensor...</td>\n",
       "    </tr>\n",
       "    <tr>\n",
       "      <th>16</th>\n",
       "      <td>jagenjo</td>\n",
       "      <td>webglstudio.js</td>\n",
       "      <td>4500</td>\n",
       "      <td>https://www.github.com/jagenjo/webglstudio.js</td>\n",
       "    </tr>\n",
       "    <tr>\n",
       "      <th>17</th>\n",
       "      <td>YadiraF</td>\n",
       "      <td>PRNet</td>\n",
       "      <td>4400</td>\n",
       "      <td>https://www.github.com/YadiraF/PRNet</td>\n",
       "    </tr>\n",
       "    <tr>\n",
       "      <th>18</th>\n",
       "      <td>AaronJackson</td>\n",
       "      <td>vrn</td>\n",
       "      <td>4400</td>\n",
       "      <td>https://www.github.com/AaronJackson/vrn</td>\n",
       "    </tr>\n",
       "    <tr>\n",
       "      <th>19</th>\n",
       "      <td>openscad</td>\n",
       "      <td>openscad</td>\n",
       "      <td>4400</td>\n",
       "      <td>https://www.github.com/openscad/openscad</td>\n",
       "    </tr>\n",
       "    <tr>\n",
       "      <th>20</th>\n",
       "      <td>ssloy</td>\n",
       "      <td>tinyraytracer</td>\n",
       "      <td>3900</td>\n",
       "      <td>https://www.github.com/ssloy/tinyraytracer</td>\n",
       "    </tr>\n",
       "    <tr>\n",
       "      <th>21</th>\n",
       "      <td>blender</td>\n",
       "      <td>blender</td>\n",
       "      <td>3700</td>\n",
       "      <td>https://www.github.com/blender/blender</td>\n",
       "    </tr>\n",
       "    <tr>\n",
       "      <th>22</th>\n",
       "      <td>mosra</td>\n",
       "      <td>magnum</td>\n",
       "      <td>3700</td>\n",
       "      <td>https://www.github.com/mosra/magnum</td>\n",
       "    </tr>\n",
       "    <tr>\n",
       "      <th>23</th>\n",
       "      <td>google</td>\n",
       "      <td>model-viewer</td>\n",
       "      <td>3600</td>\n",
       "      <td>https://www.github.com/google/model-viewer</td>\n",
       "    </tr>\n",
       "    <tr>\n",
       "      <th>24</th>\n",
       "      <td>gfxfundamentals</td>\n",
       "      <td>webgl-fundamentals</td>\n",
       "      <td>3300</td>\n",
       "      <td>https://www.github.com/gfxfundamentals/webgl-f...</td>\n",
       "    </tr>\n",
       "    <tr>\n",
       "      <th>25</th>\n",
       "      <td>cleardusk</td>\n",
       "      <td>3DDFA</td>\n",
       "      <td>3100</td>\n",
       "      <td>https://www.github.com/cleardusk/3DDFA</td>\n",
       "    </tr>\n",
       "    <tr>\n",
       "      <th>26</th>\n",
       "      <td>jasonlong</td>\n",
       "      <td>isometric-contributions</td>\n",
       "      <td>3100</td>\n",
       "      <td>https://www.github.com/jasonlong/isometric-con...</td>\n",
       "    </tr>\n",
       "    <tr>\n",
       "      <th>27</th>\n",
       "      <td>rg3dengine</td>\n",
       "      <td>rg3d</td>\n",
       "      <td>2900</td>\n",
       "      <td>https://www.github.com/rg3dengine/rg3d</td>\n",
       "    </tr>\n",
       "    <tr>\n",
       "      <th>28</th>\n",
       "      <td>cnr-isti-vclab</td>\n",
       "      <td>meshlab</td>\n",
       "      <td>2500</td>\n",
       "      <td>https://www.github.com/cnr-isti-vclab/meshlab</td>\n",
       "    </tr>\n",
       "    <tr>\n",
       "      <th>29</th>\n",
       "      <td>antvis</td>\n",
       "      <td>L7</td>\n",
       "      <td>2500</td>\n",
       "      <td>https://www.github.com/antvis/L7</td>\n",
       "    </tr>\n",
       "  </tbody>\n",
       "</table>\n",
       "</div>"
      ],
      "text/plain": [
       "            username                      repo_name  stars  \\\n",
       "0             mrdoob                       three.js  75600   \n",
       "1             libgdx                         libgdx  19200   \n",
       "2             pmndrs              react-three-fiber  15600   \n",
       "3          BabylonJS                     Babylon.js  15200   \n",
       "4           aframevr                         aframe  13300   \n",
       "5              ssloy                   tinyrenderer  11600   \n",
       "6            lettier  3d-game-shaders-for-beginners  11500   \n",
       "7            FreeCAD                        FreeCAD  10100   \n",
       "8          metafizzy                           zdog   8800   \n",
       "9           CesiumGS                         cesium   8000   \n",
       "10       timzhang642            3D-Machine-Learning   7200   \n",
       "11      a1studmuffin             SpaceshipGenerator   7000   \n",
       "12           isl-org                         Open3D   5700   \n",
       "13          spritejs                       spritejs   4700   \n",
       "14           domlysz                     BlenderGIS   4500   \n",
       "15  tensorspace-team                    tensorspace   4500   \n",
       "16           jagenjo                 webglstudio.js   4500   \n",
       "17           YadiraF                          PRNet   4400   \n",
       "18      AaronJackson                            vrn   4400   \n",
       "19          openscad                       openscad   4400   \n",
       "20             ssloy                  tinyraytracer   3900   \n",
       "21           blender                        blender   3700   \n",
       "22             mosra                         magnum   3700   \n",
       "23            google                   model-viewer   3600   \n",
       "24   gfxfundamentals             webgl-fundamentals   3300   \n",
       "25         cleardusk                          3DDFA   3100   \n",
       "26         jasonlong        isometric-contributions   3100   \n",
       "27        rg3dengine                           rg3d   2900   \n",
       "28    cnr-isti-vclab                        meshlab   2500   \n",
       "29            antvis                             L7   2500   \n",
       "\n",
       "                                             repo_url  \n",
       "0              https://www.github.com/mrdoob/three.js  \n",
       "1                https://www.github.com/libgdx/libgdx  \n",
       "2     https://www.github.com/pmndrs/react-three-fiber  \n",
       "3         https://www.github.com/BabylonJS/Babylon.js  \n",
       "4              https://www.github.com/aframevr/aframe  \n",
       "5           https://www.github.com/ssloy/tinyrenderer  \n",
       "6   https://www.github.com/lettier/3d-game-shaders...  \n",
       "7              https://www.github.com/FreeCAD/FreeCAD  \n",
       "8               https://www.github.com/metafizzy/zdog  \n",
       "9              https://www.github.com/CesiumGS/cesium  \n",
       "10  https://www.github.com/timzhang642/3D-Machine-...  \n",
       "11  https://www.github.com/a1studmuffin/SpaceshipG...  \n",
       "12              https://www.github.com/isl-org/Open3D  \n",
       "13           https://www.github.com/spritejs/spritejs  \n",
       "14          https://www.github.com/domlysz/BlenderGIS  \n",
       "15  https://www.github.com/tensorspace-team/tensor...  \n",
       "16      https://www.github.com/jagenjo/webglstudio.js  \n",
       "17               https://www.github.com/YadiraF/PRNet  \n",
       "18            https://www.github.com/AaronJackson/vrn  \n",
       "19           https://www.github.com/openscad/openscad  \n",
       "20         https://www.github.com/ssloy/tinyraytracer  \n",
       "21             https://www.github.com/blender/blender  \n",
       "22                https://www.github.com/mosra/magnum  \n",
       "23         https://www.github.com/google/model-viewer  \n",
       "24  https://www.github.com/gfxfundamentals/webgl-f...  \n",
       "25             https://www.github.com/cleardusk/3DDFA  \n",
       "26  https://www.github.com/jasonlong/isometric-con...  \n",
       "27             https://www.github.com/rg3dengine/rg3d  \n",
       "28      https://www.github.com/cnr-isti-vclab/meshlab  \n",
       "29                   https://www.github.com/antvis/L7  "
      ]
     },
     "execution_count": 108,
     "metadata": {},
     "output_type": "execute_result"
    }
   ],
   "source": [
    "topic_repos_df"
   ]
  },
  {
   "cell_type": "markdown",
   "id": "bd57f008",
   "metadata": {},
   "source": [
    "__Final Code__\n"
   ]
  },
  {
   "cell_type": "code",
   "execution_count": 131,
   "id": "2be79d05",
   "metadata": {},
   "outputs": [],
   "source": [
    "import os\n",
    "def get_topic_page(topic_url):\n",
    "    # Download the page\n",
    "    response = requests.get(topic_url)\n",
    "    # Check successful response\n",
    "    if response.status_code != 200:\n",
    "        raise Exception('Failed to load page {}'.format(topic_url))\n",
    "    # Parse using Beautiful soup\n",
    "    topic_doc = BeautifulSoup(response.text, 'html.parser')\n",
    "    return topic_doc\n",
    "\n",
    "def get_repo_info(h3_tag, star_tag):\n",
    "    # returns all the required info about a repository\n",
    "    a_tags = h3_tag.find_all('a')\n",
    "    username = a_tags[0].text.strip()\n",
    "    repo_name = a_tags[1].text.strip()\n",
    "    repo_url =  base_url + a_tags[1]['href']\n",
    "    stars = parse_star_count(star_tag.text.strip())\n",
    "    return username, repo_name, stars, repo_url\n",
    "\n",
    "def get_topic_repos(topic_doc):\n",
    "    # Get the h3 tags containing repo title, repo URL and username\n",
    "    h3_selection_class = 'f3 color-fg-muted text-normal lh-condensed'\n",
    "    repo_tags = topic_doc.find_all('h3', {'class': h3_selection_class} )\n",
    "    # Get star tags\n",
    "    star_tags = topic_doc.find_all('a', { 'class': 'social-count float-none'})\n",
    "    \n",
    "    topic_repos_dict = { 'username': [], 'repo_name': [], 'stars': [],'repo_url': []}\n",
    "\n",
    "    # Get repo info\n",
    "    for i in range(len(repo_tags)):\n",
    "        repo_info = get_repo_info(repo_tags[i], star_tags[i])\n",
    "        topic_repos_dict['username'].append(repo_info[0])\n",
    "        topic_repos_dict['repo_name'].append(repo_info[1])\n",
    "        topic_repos_dict['stars'].append(repo_info[2])\n",
    "        topic_repos_dict['repo_url'].append(repo_info[3])\n",
    "        \n",
    "    return pd.DataFrame(topic_repos_dict)\n",
    "\n",
    "def scrape_topic(topic_url, path):\n",
    "    if os.path.exists(path):\n",
    "        print(\"The file {} already exists. Skipping...\".format(path))\n",
    "        return\n",
    "    topic_df = get_topic_repos(get_topic_page(topic_url))\n",
    "    topic_df.to_csv(path, index=None)\n"
   ]
  },
  {
   "cell_type": "code",
   "execution_count": 127,
   "id": "9151b382",
   "metadata": {},
   "outputs": [],
   "source": [
    "get_topic_repos(get_topic_page(topic_urls[5])).to_csv('Topic5.csv', index=None)"
   ]
  },
  {
   "cell_type": "code",
   "execution_count": 123,
   "id": "2c7f4d18",
   "metadata": {},
   "outputs": [],
   "source": [
    "def get_topic_titles(doc):\n",
    "    selection_class = 'f3 lh-condensed mb-0 mt-1 Link--primary'\n",
    "    topic_title_tags = doc.find_all('p', {'class': selection_class})\n",
    "    topic_titles = []\n",
    "    for tag in topic_title_tags:\n",
    "        topic_titles.append(tag.text)\n",
    "    return topic_titles\n",
    "\n",
    "def get_topic_descs(doc):\n",
    "    desc_selector = 'f5 color-fg-muted mb-0 mt-1'\n",
    "    topic_desc_tags = doc.find_all('p', {'class': desc_selector})\n",
    "    topic_descs = []\n",
    "    for tag in topic_desc_tags:\n",
    "        topic_descs.append(tag.text.strip())\n",
    "    return topic_descs\n",
    "\n",
    "def get_topic_urls(doc):\n",
    "    topic_link_tags = doc.find_all('a', {'class': 'd-flex no-underline'})\n",
    "    topic_urls = []\n",
    "    base_url = 'https://github.com'\n",
    "    for tag in topic_link_tags:\n",
    "        topic_urls.append(base_url + tag['href'])\n",
    "    return topic_urls\n",
    "    \n",
    "\n",
    "def scrape_topics():\n",
    "    topics_url = 'https://github.com/topics'\n",
    "    response = requests.get(topics_url)\n",
    "    if response.status_code != 200:\n",
    "        raise Exception('Failed to load page {}'.format(topic_url))\n",
    "    topics_dict = {\n",
    "        'title': get_topic_titles(doc),\n",
    "        'description': get_topic_descs(doc),\n",
    "        'url': get_topic_urls(doc)\n",
    "    }\n",
    "    return pd.DataFrame(topics_dict)"
   ]
  },
  {
   "cell_type": "code",
   "execution_count": 128,
   "id": "9d5ddd85",
   "metadata": {},
   "outputs": [],
   "source": [
    "def scrape_topics_repos():\n",
    "    print('Scraping list of topics')\n",
    "    topics_df = scrape_topics()\n",
    "    \n",
    "    os.makedirs('data', exist_ok=True)\n",
    "    for index, row in topics_df.iterrows():\n",
    "        print('Scraping top repositories for \"{}\"'.format(row['title']))\n",
    "        scrape_topic(row['url'], 'data/{}.csv'.format(row['title']))"
   ]
  },
  {
   "cell_type": "code",
   "execution_count": 132,
   "id": "031c3686",
   "metadata": {},
   "outputs": [
    {
     "name": "stdout",
     "output_type": "stream",
     "text": [
      "Scraping list of topics\n",
      "Scraping top repositories for \"3D\"\n",
      "Scraping top repositories for \"Ajax\"\n",
      "Scraping top repositories for \"Algorithm\"\n",
      "Scraping top repositories for \"Amp\"\n",
      "Scraping top repositories for \"Android\"\n",
      "Scraping top repositories for \"Angular\"\n",
      "Scraping top repositories for \"Ansible\"\n",
      "Scraping top repositories for \"API\"\n",
      "Scraping top repositories for \"Arduino\"\n",
      "Scraping top repositories for \"ASP.NET\"\n",
      "Scraping top repositories for \"Atom\"\n",
      "Scraping top repositories for \"Awesome Lists\"\n",
      "Scraping top repositories for \"Amazon Web Services\"\n",
      "Scraping top repositories for \"Azure\"\n",
      "Scraping top repositories for \"Babel\"\n",
      "Scraping top repositories for \"Bash\"\n",
      "Scraping top repositories for \"Bitcoin\"\n",
      "Scraping top repositories for \"Bootstrap\"\n",
      "Scraping top repositories for \"Bot\"\n",
      "Scraping top repositories for \"C\"\n",
      "Scraping top repositories for \"Chrome\"\n",
      "Scraping top repositories for \"Chrome extension\"\n",
      "Scraping top repositories for \"Command line interface\"\n",
      "Scraping top repositories for \"Clojure\"\n",
      "Scraping top repositories for \"Code quality\"\n",
      "Scraping top repositories for \"Code review\"\n",
      "Scraping top repositories for \"Compiler\"\n",
      "Scraping top repositories for \"Continuous integration\"\n",
      "Scraping top repositories for \"COVID-19\"\n",
      "Scraping top repositories for \"C++\"\n"
     ]
    }
   ],
   "source": [
    "scrape_topics_repos()"
   ]
  },
  {
   "cell_type": "code",
   "execution_count": null,
   "id": "588e1ba7",
   "metadata": {},
   "outputs": [],
   "source": []
  }
 ],
 "metadata": {
  "kernelspec": {
   "display_name": "Python 3",
   "language": "python",
   "name": "python3"
  },
  "language_info": {
   "codemirror_mode": {
    "name": "ipython",
    "version": 3
   },
   "file_extension": ".py",
   "mimetype": "text/x-python",
   "name": "python",
   "nbconvert_exporter": "python",
   "pygments_lexer": "ipython3",
   "version": "3.8.8"
  }
 },
 "nbformat": 4,
 "nbformat_minor": 5
}
